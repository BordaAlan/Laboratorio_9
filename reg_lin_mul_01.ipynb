{
  "cells": [
    {
      "cell_type": "markdown",
      "metadata": {
        "id": "OvOJuT6EP02O"
      },
      "source": [
        "# Ejercicio de programación Regresión Lineal Multiple"
      ]
    },
    {
      "cell_type": "code",
      "source": [
        "# Borda Aguirre Alan Rafael\n",
        "# Laboratorio 9 - SIS 420\n",
        "# Ing. Diseño y animacion digital \n",
        "# Evento de curso\n",
        "\n",
        "\"\"\"\n",
        "A partir de un dataset que obtuvo de Kaggle.com aplique el cuadernillo para regresion lineal \n",
        "multiple revisado en clase para lograr calcular los valores de theta y realizar las respectivas predicciones. \n",
        "Metodo del descenso por el gradiente y el metodo de la Normal).\n",
        "\n",
        "\"\"\"\n",
        "\n",
        "# Datos de Dataset\n",
        "\n",
        "\"\"\"\n",
        "Densidad determinada por el pesaje subacuático\n",
        "Porcentaje de grasa corporal de la ecuación de Siri ( 1956 ) SERA LA Y EN EL PROGRAMA\n",
        "Edad ( años )\n",
        "Peso ( lbs )\n",
        "Altura ( pulgadas )\n",
        "Circunferencia del cuello ( cm )\n",
        "Circunferencia del pecho ( cm )\n",
        "Abdomen 2 circunferencia ( cm )\n",
        "Circunferencia de la cadera ( cm )\n",
        "Circunferencia del muslo ( cm )\n",
        "Circunferencia de rodilla ( cm )\n",
        "Circunferencia del tobillo ( cm )\n",
        "Bíceps ( circunferencia extendida ) ( cm )\n",
        "Circunferencia del antebrazo ( cm )\n",
        "Circunferencia de muñeca ( cm )\n",
        "\n",
        "\"\"\""
      ],
      "metadata": {
        "id": "awo3ZBAsQjEx"
      },
      "execution_count": null,
      "outputs": []
    },
    {
      "cell_type": "code",
      "execution_count": 16,
      "metadata": {
        "id": "63xXvBLbP02d"
      },
      "outputs": [],
      "source": [
        "# utilizado para manejos de directorios y rutas\n",
        "import os\n",
        "\n",
        "# Computacion vectorial y cientifica para python\n",
        "import numpy as np\n",
        "\n",
        "# Librerias para graficación (trazado de gráficos)\n",
        "from matplotlib import pyplot\n",
        "from mpl_toolkits.mplot3d import Axes3D  # Necesario para graficar superficies 3D\n",
        "\n",
        "# llama a matplotlib a embeber graficas dentro de los cuadernillos\n",
        "%matplotlib inline"
      ]
    },
    {
      "cell_type": "markdown",
      "metadata": {
        "id": "IooJJUrcP02i"
      },
      "source": [
        "## 2 Regresión lineal con multiples variables\n",
        "\n",
        "Se implementa la regresion lineal multivariable para predecir el precio de las casas. El archivo `Datasets/ex1data2.txt` contiene un conjunto de entrenamiento de precios de casas en Portland, Oregon. La primera columna es el tamaño de la casa en metros cuadrados, la segunda columna es el numero de cuartos, y la tercera columna es el precio de la casa. \n",
        "\n",
        "<a id=\"section4\"></a>\n",
        "### 2.1 Normalización de caracteristicas\n",
        "\n",
        "Al visualizar los datos se puede observar que las caracteristicas tienen diferentes magnitudes, por lo cual se debe transformar cada valor en una escala de valores similares, esto con el fin de que el descenso por el gradiente pueda converger mas rapidamente."
      ]
    },
    {
      "cell_type": "code",
      "execution_count": 17,
      "metadata": {
        "id": "whADthcjP02l"
      },
      "outputs": [],
      "source": [
        "# Cargar datos\n",
        "data = np.loadtxt(os.path.join(\"bodyfat.csv\"), delimiter=',', skiprows=1)\n",
        "X = data[:, [0,2,3,4,5,6,7,8,9,10,11,12,13,14]]\n",
        "y = data[:, 1]\n",
        "m = y.size\n"
      ]
    },
    {
      "cell_type": "markdown",
      "metadata": {
        "id": "LjUIp3O1P02m"
      },
      "source": [
        "La desviación estándar es una forma de medir cuánta variación hay en el rango de valores de una característica en particular (la mayoría de los puntos caeran en un rango de ± 2 en relación a la desviaciones estándar de la media); esta es una alternativa a tomar el rango de valores (max-min). En `numpy`, se puede usar la función `std` para calcular la desviacion estandar. \n",
        "\n",
        "Por ejemplo, la caracteristica`X[:, 0]` contiene todos los valores de $x_1$ (tamaño de las casas) en el conjunto de entrenamiento, entonces `np.std(X[:, 0])` calcula la desviacion estandar de los tamaños de las casas.\n",
        "En el momento en que se llama a la función `featureNormalize`, la columna adicional de unos correspondiente a $ x_0 = 1 $ aún no se ha agregado a $ X $. \n",
        "\n",
        "<div class=\"alert alert-block alert-warning\">\n",
        "**Notas para la implementación:** Cuando se normalize una caracteristica, es importante almacenar los valores usados para la normalización - el valor de la media y el valor de la desviación estandar usado para los calculos. Despues de aprender los parametros del modelo, se deseara predecir los precios de casas que no se han visto antes. Dado un nuevo valor de x (area del living room y el numero de dormitorios), primero se debe normalizar x usando la media y la desviacion estandar que se empleo anteriormente en el conjunto de entrenamiento para entrenar el modelo.\n",
        "</div>\n",
        "<a id=\"featureNormalize\"></a>"
      ]
    },
    {
      "cell_type": "code",
      "execution_count": 18,
      "metadata": {
        "id": "rfPGk2FYP02q"
      },
      "outputs": [],
      "source": [
        "def  featureNormalize(X):\n",
        "    X_norm = X.copy()\n",
        "    mu = np.zeros(X.shape[1])\n",
        "    sigma = np.zeros(X.shape[1])\n",
        "\n",
        "    mu = np.mean(X, axis = 0)\n",
        "    sigma = np.std(X, axis = 0)\n",
        "    X_norm = (X - mu) / sigma\n",
        "    \n",
        "    return X_norm, mu, sigma"
      ]
    },
    {
      "cell_type": "code",
      "execution_count": 19,
      "metadata": {
        "colab": {
          "base_uri": "https://localhost:8080/"
        },
        "id": "9TLeahYQP02u",
        "outputId": "7abce289-b00a-41d6-fc57-9372b4000168"
      },
      "outputs": [
        {
          "output_type": "stream",
          "name": "stdout",
          "text": [
            "[[  1.0708  23.     154.25   ...  32.      27.4     17.1   ]\n",
            " [  1.0853  22.     173.25   ...  30.5     28.9     18.2   ]\n",
            " [  1.0414  22.     154.     ...  28.8     25.2     16.6   ]\n",
            " ...\n",
            " [  1.0328  72.     186.75   ...  31.3     27.2     18.    ]\n",
            " [  1.0399  72.     190.75   ...  30.5     29.4     19.8   ]\n",
            " [  1.0271  74.     207.5    ...  33.7     30.      20.9   ]]\n",
            "Media calculada: [  1.05557381  44.88492063 178.92440476  70.14880952  37.99206349\n",
            " 100.82420635  92.55595238  99.9047619   59.40595238  38.59047619\n",
            "  23.10238095  32.2734127   28.66388889  18.2297619 ]\n",
            "Desviación estandar calculada: [1.89936359e-02 1.25770108e+01 2.93307901e+01 3.65558099e+00\n",
            " 2.42608520e+00 8.41373177e+00 1.07616605e+01 7.14982914e+00\n",
            " 5.23952510e+00 2.40701450e+00 1.69152717e+00 3.01527320e+00\n",
            " 2.01667787e+00 9.31730737e-01]\n",
            "[[ 0.80164696 -1.74007329 -0.84124583 ... -0.09067593 -0.62671828\n",
            "  -1.2125412 ]\n",
            " [ 1.56506057 -1.81958344 -0.19346239 ... -0.58814329  0.11707924\n",
            "  -0.0319426 ]\n",
            " [-0.74623993 -1.81958344 -0.84976929 ... -1.15193963 -1.71762131\n",
            "  -1.74917692]\n",
            " ...\n",
            " [-1.19902317  2.15592399  0.26680479 ... -0.32282736 -0.72589128\n",
            "  -0.24659689]\n",
            " [-0.82521375  2.15592399  0.40318025 ... -0.58814329  0.36501175\n",
            "   1.68529172]\n",
            " [-1.49912369  2.31494429  0.97425249 ...  0.47312041  0.66253075\n",
            "   2.86589032]]\n"
          ]
        }
      ],
      "source": [
        "# llama featureNormalize con los datos cargados\n",
        "X_norm, mu, sigma = featureNormalize(X)\n",
        "\n",
        "print(X)\n",
        "print('Media calculada:', mu)\n",
        "print('Desviación estandar calculada:', sigma)\n",
        "print(X_norm)"
      ]
    },
    {
      "cell_type": "markdown",
      "metadata": {
        "id": "Pg1zD9oDP024"
      },
      "source": [
        "Despues de `featureNormalize` la funcion es provada, se añade el temino de interseccion a `X_norm`:"
      ]
    },
    {
      "cell_type": "code",
      "execution_count": 20,
      "metadata": {
        "id": "_qsOSkicP025"
      },
      "outputs": [],
      "source": [
        "# Añade el termino de interseccion a X\n",
        "# (Columna de unos para X0)\n",
        "X = np.concatenate([np.ones((m, 1)), X_norm], axis=1)"
      ]
    },
    {
      "cell_type": "code",
      "execution_count": 21,
      "metadata": {
        "colab": {
          "base_uri": "https://localhost:8080/"
        },
        "id": "0bOecgsiP027",
        "outputId": "66caa217-59aa-4f88-e8e5-820170b23e4e"
      },
      "outputs": [
        {
          "output_type": "stream",
          "name": "stdout",
          "text": [
            "[[ 1.          0.80164696 -1.74007329 ... -0.09067593 -0.62671828\n",
            "  -1.2125412 ]\n",
            " [ 1.          1.56506057 -1.81958344 ... -0.58814329  0.11707924\n",
            "  -0.0319426 ]\n",
            " [ 1.         -0.74623993 -1.81958344 ... -1.15193963 -1.71762131\n",
            "  -1.74917692]\n",
            " ...\n",
            " [ 1.         -1.19902317  2.15592399 ... -0.32282736 -0.72589128\n",
            "  -0.24659689]\n",
            " [ 1.         -0.82521375  2.15592399 ... -0.58814329  0.36501175\n",
            "   1.68529172]\n",
            " [ 1.         -1.49912369  2.31494429 ...  0.47312041  0.66253075\n",
            "   2.86589032]]\n"
          ]
        }
      ],
      "source": [
        "print(X)"
      ]
    },
    {
      "cell_type": "markdown",
      "metadata": {
        "id": "srxJV0LUP028"
      },
      "source": [
        "<a id=\"section5\"></a>\n",
        "### 2.2 Descenso por el gradiente\n",
        "\n",
        "En el ejemplo anterior se implemento el descenso por el gradiente para un problema de regresion univariable. La unica diferencia es que ahora existe una caracteristica adicional en la matriz $X$. La función de hipótesis y la regla de actualización del descenso del gradiente por lotes permanecen sin cambios.\n",
        "\n",
        "La implementacion de las funciones `computeCostMulti` y `gradientDescentMulti` son similares a la funcion de costo y función de descenso por el gradiente de la regresión lineal multiple es similar al de la regresion lineal multivariable. Es importante garantizar que el codigo soporte cualquier numero de caracteristicas y esten bien vectorizadas.\n",
        "\n",
        "Se puede utilizar `shape`, propiedad de los arrays `numpy`, para identificar cuantas caracteristicas estan consideradas en el dataset.\n",
        "\n",
        "<div class=\"alert alert-block alert-warning\">\n",
        "**Nota de implementación:** En el caso de multivariables, la función de costo puede se escrita considerando la forma vectorizada de la siguiente manera:\n",
        "\n",
        "$$ J(\\theta) = \\frac{1}{2m}(X\\theta - \\vec{y})^T(X\\theta - \\vec{y}) $$\n",
        "\n",
        "donde:\n",
        "\n",
        "$$ X = \\begin{pmatrix}\n",
        "          - (x^{(1)})^T - \\\\\n",
        "          - (x^{(2)})^T - \\\\\n",
        "          \\vdots \\\\\n",
        "          - (x^{(m)})^T - \\\\ \\\\\n",
        "        \\end{pmatrix} \\qquad \\mathbf{y} = \\begin{bmatrix} y^{(1)} \\\\ y^{(2)} \\\\ \\vdots \\\\ y^{(m)} \\\\\\end{bmatrix}$$\n",
        "\n",
        "La version vectorizada es eficiente cuando se trabaja con herramientas de calculo numericos computacional como `numpy`. \n",
        "</div>\n",
        "\n",
        "<a id=\"computeCostMulti\"></a>"
      ]
    },
    {
      "cell_type": "code",
      "execution_count": 22,
      "metadata": {
        "id": "c12MN6vVP029"
      },
      "outputs": [],
      "source": [
        "def computeCostMulti(X, y, theta):\n",
        "    # Inicializa algunos valores utiles\n",
        "    m = y.shape[0] # numero de ejemplos de entrenamiento\n",
        "    \n",
        "    J = 0\n",
        "    \n",
        "    h = np.dot(X, theta)\n",
        "    \n",
        "    J = (1/(2 * m)) * np.sum(np.square(np.dot(X, theta) - y))\n",
        "    \n",
        "    return J\n"
      ]
    },
    {
      "cell_type": "code",
      "execution_count": 23,
      "metadata": {
        "id": "WQv6JGzZP03A"
      },
      "outputs": [],
      "source": [
        "def gradientDescentMulti(X, y, theta, alpha, num_iters):\n",
        "    \n",
        "    # Inicializa algunos valores \n",
        "    m = y.shape[0] # numero de ejemplos de entrenamiento\n",
        "    \n",
        "    # realiza una copia de theta, el cual será acutalizada por el descenso por el gradiente\n",
        "    theta = theta.copy()\n",
        "    \n",
        "    J_history = []\n",
        "    \n",
        "    for i in range(num_iters):\n",
        "        theta = theta - (alpha / m) * (np.dot(X, theta) - y).dot(X)\n",
        "        J_history.append(computeCostMulti(X, y, theta))\n",
        "    \n",
        "    return theta, J_history"
      ]
    },
    {
      "cell_type": "markdown",
      "metadata": {
        "id": "2EfTxL_QP03B"
      },
      "source": [
        "#### 3.2.1 Seleccionando coheficientes de aprendizaje\n"
      ]
    },
    {
      "cell_type": "code",
      "execution_count": 24,
      "metadata": {
        "colab": {
          "base_uri": "https://localhost:8080/",
          "height": 366
        },
        "id": "bcFG_Iw6P03C",
        "outputId": "6abae1ec-cceb-4094-ac6d-a48471699ef3"
      },
      "outputs": [
        {
          "output_type": "stream",
          "name": "stdout",
          "text": [
            "theta calculado por el descenso por el gradiente: [ 1.91047358e+01 -6.62897534e+00  4.19712738e-01  1.33878616e-02\n",
            " -4.18603703e-02 -3.38195325e-01  4.11732738e-01  1.52110090e+00\n",
            "  3.17829972e-02  1.60360610e-01 -9.05533591e-02 -6.23397119e-02\n",
            " -8.05867789e-02  2.36999924e-01 -4.92975374e-01]\n",
            "39.87443232901135\n"
          ]
        },
        {
          "output_type": "display_data",
          "data": {
            "text/plain": [
              "<Figure size 432x288 with 1 Axes>"
            ],
            "image/png": "[encoded data removed]"
          },
          "metadata": {
            "needs_background": "light"
          }
        }
      ],
      "source": [
        "# Elegir algun valor para alpha (probar varias alternativas)\n",
        "alpha = 0.01\n",
        "num_iters = 600\n",
        "\n",
        "# inicializa theta y ejecuta el descenso por el gradiente\n",
        "theta = np.zeros(15)\n",
        "theta, J_history = gradientDescentMulti(X, y, theta, alpha, num_iters)\n",
        "\n",
        "# Grafica la convergencia del costo\n",
        "pyplot.plot(np.arange(len(J_history)), J_history, lw=2)\n",
        "pyplot.xlabel('Numero de iteraciones')\n",
        "pyplot.ylabel('Costo J')\n",
        "\n",
        "# Muestra los resultados del descenso por el gradiente\n",
        "print('theta calculado por el descenso por el gradiente: {:s}'.format(str(theta)))\n",
        "\n",
        "# Estimar el precio para una casa de 1650 sq-ft, con 3 dormitorios\n",
        "X_array = [1, 1.0101,49,191.75,65.00,38.4,118.5,113.1,113.8,61.9,38.3,21.9,32.0,29.8,17.0]\n",
        "X_array[1:15] = (X_array[1:15] - mu) / sigma\n",
        "masa = np.dot(X_array, theta)   # Se debe cambiar esto\n",
        "\n",
        "print(masa)"
      ]
    },
    {
      "cell_type": "code",
      "execution_count": 25,
      "metadata": {
        "id": "F13fSEACP03D"
      },
      "outputs": [],
      "source": [
        "X_array = [1, 1.0101,49,191.75,65.00,38.4,118.5,113.1,113.8,61.9,38.3,21.9,32.0,29.8,17.0]\n",
        "X_array[1:15] = (X_array[1:15] - mu) / sigma"
      ]
    },
    {
      "cell_type": "code",
      "execution_count": 26,
      "metadata": {
        "colab": {
          "base_uri": "https://localhost:8080/"
        },
        "id": "yncJRbQRP03J",
        "outputId": "1b19e8b4-5c83-4ad1-9c5f-3c914a04c927"
      },
      "outputs": [
        {
          "output_type": "execute_result",
          "data": {
            "text/plain": [
              "[-2.3941603321116105,\n",
              " 0.32719057204787316,\n",
              " 0.4372741135193617,\n",
              " -1.4084791266989585,\n",
              " 0.16814599425654603,\n",
              " 2.100826854580745,\n",
              " 1.9090034983059283,\n",
              " 1.9434363855198284,\n",
              " 0.4760064262076207,\n",
              " -0.12067903622254944,\n",
              " -0.7108256802212505,\n",
              " -0.09067592888923372,\n",
              " 0.5633577513891114,\n",
              " -1.3198683444146129]"
            ]
          },
          "metadata": {},
          "execution_count": 26
        }
      ],
      "source": [
        "X_array[1:15]"
      ]
    },
    {
      "cell_type": "markdown",
      "metadata": {
        "id": "uhNIA5BNP03L"
      },
      "source": [
        "<a id=\"section7\"></a>\n",
        "### 2.3 Ecuacion de la Normal\n",
        "\n",
        "Una manera de calcular rapidamente el modelo de una regresion lineal es:\n",
        "\n",
        "$$ \\theta = \\left( X^T X\\right)^{-1} X^T\\vec{y}$$\n",
        "\n",
        "Utilizando esta formula no requiere que se escale ninguna caracteristica, y se obtendra una solucion exacta con un solo calculo: no hay “bucles de convergencia” como en el descenso por el gradiente. \n",
        "\n",
        "Primero se recargan los datos para garantizar que las variables no esten modificadas. Recordar que no es necesario escalar las caracteristicas, se debe agregar la columna de unos a la matriz $X$ para tener el termino de intersección($\\theta_0$). "
      ]
    },
    {
      "cell_type": "code",
      "execution_count": 27,
      "metadata": {
        "id": "nZSpyvACP03L"
      },
      "outputs": [],
      "source": [
        "# Cargar datos\n",
        "data = np.loadtxt(os.path.join(\"bodyfat.csv\"), delimiter=',', skiprows=1)\n",
        "X = data[:, [0,2,3,4,5,6,7,8,9,10,11,12,13,14]]\n",
        "y = data[:, 1]\n",
        "m = y.size\n",
        "X = np.concatenate([np.ones((m, 1)), X], axis=1)"
      ]
    },
    {
      "cell_type": "code",
      "execution_count": 28,
      "metadata": {
        "id": "BkkFtrj8P03M"
      },
      "outputs": [],
      "source": [
        "def normalEqn(X, y):\n",
        "  \n",
        "    theta = np.zeros(X.shape[1])\n",
        "    \n",
        "    theta = np.dot(np.dot(np.linalg.inv(np.dot(X.T,X)),X.T),y)\n",
        "    \n",
        "    return theta"
      ]
    },
    {
      "cell_type": "code",
      "execution_count": 29,
      "metadata": {
        "colab": {
          "base_uri": "https://localhost:8080/"
        },
        "id": "mhedC1-oP03N",
        "outputId": "c1b4278a-f662-44ef-a972-634cc2a364c1"
      },
      "outputs": [
        {
          "output_type": "stream",
          "name": "stdout",
          "text": [
            "Theta calculado a partir de la ecuación de la normal: [ 4.50012569e+02 -4.11237849e+02  1.25870031e-02  1.00541597e-02\n",
            " -7.98073928e-03 -2.84558253e-02  2.67803354e-02  1.85648835e-02\n",
            "  1.91660401e-02 -1.67583631e-02 -4.63900521e-03 -8.56761181e-02\n",
            " -5.50508219e-02  3.38634347e-02  7.34493754e-03]\n",
            "39.28971213010638\n"
          ]
        }
      ],
      "source": [
        "# Calcula los parametros con la ecuación de la normal\n",
        "theta = normalEqn(X, y);\n",
        "\n",
        "# Muestra los resultados optenidos a partir de la aplicación de la ecuación de la normal\n",
        "print('Theta calculado a partir de la ecuación de la normal: {:s}'.format(str(theta)));\n",
        "\n",
        "# Estimar el precio para una casa de superficie de 1650 sq-ft y tres dormitorios\n",
        "\n",
        "X_array = [1, 1.0101,49,191.75,65.00,38.4,118.5,113.1,113.8,61.9,38.3,21.9,32.0,29.8,17.0]\n",
        "masa = np.dot(X_array, theta) \n",
        "\n",
        "print( masa )"
      ]
    }
  ],
  "metadata": {
    "kernelspec": {
      "display_name": "Python 3.9.12 ('base')",
      "language": "python",
      "name": "python3"
    },
    "language_info": {
      "codemirror_mode": {
        "name": "ipython",
        "version": 3
      },
      "file_extension": ".py",
      "mimetype": "text/x-python",
      "name": "python",
      "nbconvert_exporter": "python",
      "pygments_lexer": "ipython3",
      "version": "3.9.12"
    },
    "vscode": {
      "interpreter": {
        "hash": "5f1de7d2f8b2ea13c275b55a1a168baa6b4c6d64260a02c6ee9ee64f3ff538fa"
      }
    },
    "colab": {
      "provenance": []
    }
  },
  "nbformat": 4,
  "nbformat_minor": 0
}